{
  "nbformat": 4,
  "nbformat_minor": 0,
  "metadata": {
    "colab": {
      "provenance": [],
      "collapsed_sections": [
        "DKVjMPyB2TaJ",
        "wy1NZOp49iC7",
        "xlFYHSIYCTT3"
      ],
      "include_colab_link": true
    },
    "kernelspec": {
      "name": "python3",
      "display_name": "Python 3"
    },
    "language_info": {
      "name": "python"
    }
  },
  "cells": [
    {
      "cell_type": "markdown",
      "metadata": {
        "id": "view-in-github",
        "colab_type": "text"
      },
      "source": [
        "<a href=\"https://colab.research.google.com/github/KrimssmirK/CCDATS1L_ASSIGNMENT_COM-ML201/blob/main/exercise_1.ipynb\" target=\"_parent\"><img src=\"https://colab.research.google.com/assets/colab-badge.svg\" alt=\"Open In Colab\"/></a>"
      ]
    },
    {
      "cell_type": "markdown",
      "source": [
        "# Exercise 1\n",
        "\n",
        "Please follow the instructions for each number"
      ],
      "metadata": {
        "id": "KdbulXu6s8v0"
      }
    },
    {
      "cell_type": "markdown",
      "source": [
        "## Lists"
      ],
      "metadata": {
        "id": "DKVjMPyB2TaJ"
      }
    },
    {
      "cell_type": "markdown",
      "source": [
        "1. Create a list of lists. Use the three lists below\n",
        "\n",
        "  list1 = [orange, banana]\n",
        "\n",
        "  list2 = [1, 2]\n",
        "\n",
        "  list3 = [True, False]\n",
        "\n",
        "  -----------------------------\n",
        "\n",
        "  **Expected output:**\n",
        "\n",
        "  [[\"orange\", \"banana\"], [1, 2], [True, False]]"
      ],
      "metadata": {
        "id": "2kSgRWVFtAot"
      }
    },
    {
      "cell_type": "code",
      "execution_count": null,
      "metadata": {
        "id": "dlHNQj0Zs7gT",
        "colab": {
          "base_uri": "https://localhost:8080/"
        },
        "outputId": "f6668c05-05dc-4161-95fd-152b509fe98c"
      },
      "outputs": [
        {
          "output_type": "execute_result",
          "data": {
            "text/plain": [
              "[['orange', 'banana'], [1, 2], [True, False]]"
            ]
          },
          "metadata": {},
          "execution_count": 2
        }
      ],
      "source": [
        "# Put your answer here\n",
        "list1 = [\"orange\", \"banana\"]\n",
        "list2 = [1, 2]\n",
        "list3 = [True, False]\n",
        "\n",
        "answer = [list1, list2, list3]\n",
        "answer"
      ]
    },
    {
      "cell_type": "markdown",
      "source": [
        "2. Remove all strings in the list\n",
        "\n",
        "  mylist = [\"A\", 1, \"B\", 10, \"C\", 100, \"D\"]\n",
        "\n",
        "  ----------------------------\n",
        "\n",
        "  **Expected output**:\n",
        "   \n",
        "  [1, 10, 100]"
      ],
      "metadata": {
        "id": "ClYtcLoK3RrX"
      }
    },
    {
      "cell_type": "code",
      "source": [
        "# Put your answer here\n",
        "mylist = [\"A\", 1, \"B\", 10, \"C\", 100, \"D\"]\n",
        "for elem in mylist:\n",
        "  if type(elem) == str:\n",
        "    mylist.remove(elem)\n",
        "mylist\n"
      ],
      "metadata": {
        "id": "dKgTNDlz4G7l",
        "colab": {
          "base_uri": "https://localhost:8080/"
        },
        "outputId": "1acedf59-be90-4e3a-a77e-9d5753875dc2"
      },
      "execution_count": null,
      "outputs": [
        {
          "output_type": "execute_result",
          "data": {
            "text/plain": [
              "[1, 10, 100]"
            ]
          },
          "metadata": {},
          "execution_count": 11
        }
      ]
    },
    {
      "cell_type": "markdown",
      "source": [
        "3. Create a list that will contain the combination of each element in list1 and list2\n",
        "\n",
        "  list1 = [\"DA\", \"SCI\"]\n",
        "\n",
        "  list2 = [\"TA\", \"ENCE\"]\n",
        "\n",
        "  ----------------------------\n",
        "\n",
        "  **Expected output:**\n",
        "\n",
        "  ['DATA', 'SCIENCE']"
      ],
      "metadata": {
        "id": "g0UBXXSG4un9"
      }
    },
    {
      "cell_type": "code",
      "source": [
        "# Put your answer here\n",
        "list1 = [\"DA\", \"SCI\"]\n",
        "list2 = [\"TA\", \"ENCE\"]\n",
        "answer = []\n",
        "for elem1, elem2 in zip(list1, list2):\n",
        "  answer.append(elem1 + elem2)\n",
        "answer"
      ],
      "metadata": {
        "id": "HBZ6liCD8LTS",
        "colab": {
          "base_uri": "https://localhost:8080/"
        },
        "outputId": "0b943fc8-326d-4522-b1bc-f5ef0850c980"
      },
      "execution_count": null,
      "outputs": [
        {
          "output_type": "execute_result",
          "data": {
            "text/plain": [
              "['DATA', 'SCIENCE']"
            ]
          },
          "metadata": {},
          "execution_count": 16
        }
      ]
    },
    {
      "cell_type": "markdown",
      "source": [
        "4. Remove empty strings in the list\n",
        "\n",
        "  list1 = [\"I\", \"\", \"LOVE\", \"DATA\", \"\", \"SCIENCE\"]\n",
        "\n",
        "  -----------------------\n",
        "\n",
        "  **Expected output:**\n",
        "\n",
        "  [\"I\", \"LOVE\", \"DATA\", \"SCIENCE\"]"
      ],
      "metadata": {
        "id": "03G2IFty6WCn"
      }
    },
    {
      "cell_type": "code",
      "source": [
        "# Put your answer here\n",
        "list1 = [\"I\", \"\", \"LOVE\", \"DATA\", \"\", \"SCIENCE\"]\n",
        "for elem in list1:\n",
        "  if elem == \"\":\n",
        "    list1.remove(elem)\n",
        "list1"
      ],
      "metadata": {
        "id": "8N2rGftt7Ljr",
        "colab": {
          "base_uri": "https://localhost:8080/"
        },
        "outputId": "ae0373ff-6bfe-412c-92c3-a430ba11d049"
      },
      "execution_count": null,
      "outputs": [
        {
          "output_type": "execute_result",
          "data": {
            "text/plain": [
              "['I', 'LOVE', 'DATA', 'SCIENCE']"
            ]
          },
          "metadata": {},
          "execution_count": 17
        }
      ]
    },
    {
      "cell_type": "markdown",
      "source": [
        "5. Using list comprehension, create a new list that will only contain the prime numbers in the given list\n",
        "\n",
        "  list1 = [1, 2, 3, 4, 5, 6, 7, 8, 9, 10]\n",
        "\n",
        "  -----------------------------\n",
        "\n",
        "  **Expected output:**\n",
        "  \n",
        "  [2, 3, 5, 7]"
      ],
      "metadata": {
        "id": "wuqBS0Vg7JPw"
      }
    },
    {
      "cell_type": "code",
      "source": [
        "# Put your answer here\n",
        "list1 = [1, 2, 3, 4, 5, 6, 7, 8, 9, 10]\n",
        "answer = []\n",
        "for elem in list1:\n",
        "  # set flag\n",
        "  isPrime = True\n",
        "  for i in range(2, elem):\n",
        "    # checking the visibility\n",
        "    if elem % i == 0:\n",
        "      isPrime = False\n",
        "      break\n",
        "  # add prime number in answer\n",
        "  if isPrime and elem > 1:\n",
        "    answer.append(elem)\n",
        "# show the result\n",
        "answer"
      ],
      "metadata": {
        "id": "XoykVs457JkE",
        "colab": {
          "base_uri": "https://localhost:8080/"
        },
        "outputId": "4e97f44d-3dbb-4197-dd38-da7516f2bdf4"
      },
      "execution_count": null,
      "outputs": [
        {
          "output_type": "execute_result",
          "data": {
            "text/plain": [
              "[2, 3, 5, 7]"
            ]
          },
          "metadata": {},
          "execution_count": 5
        }
      ]
    },
    {
      "cell_type": "markdown",
      "source": [],
      "metadata": {
        "id": "-lR1qX1a9g0S"
      }
    },
    {
      "cell_type": "markdown",
      "source": [
        "## Tuples"
      ],
      "metadata": {
        "id": "wy1NZOp49iC7"
      }
    },
    {
      "cell_type": "markdown",
      "source": [
        "1. Print the value \"National University\" in the nested tuple.\n",
        "\n",
        "  mytuple = (\"Manila\", [19, 00, \"National University\"], (25, 8, 2023))\n",
        "\n",
        "  --------------------------------\n",
        "\n",
        "  **Expected output:**\n",
        "\n",
        "  National University\n"
      ],
      "metadata": {
        "id": "ldovi4eh9jdF"
      }
    },
    {
      "cell_type": "code",
      "source": [
        "# Put your answer here\n",
        "\n",
        "mytuple = (\"Manila\", [19, 00, \"National University\"], (25, 8, 2023))\n",
        "mytuple[1][2]"
      ],
      "metadata": {
        "colab": {
          "base_uri": "https://localhost:8080/",
          "height": 35
        },
        "id": "6BM4qMEV98l1",
        "outputId": "554dd691-2909-4824-e01c-ce58ba485470"
      },
      "execution_count": null,
      "outputs": [
        {
          "output_type": "execute_result",
          "data": {
            "text/plain": [
              "'National University'"
            ],
            "application/vnd.google.colaboratory.intrinsic+json": {
              "type": "string"
            }
          },
          "metadata": {},
          "execution_count": 6
        }
      ]
    },
    {
      "cell_type": "markdown",
      "source": [
        "2. Given this tuple\n",
        "\n",
        "  mytuple = (1, 2, 3, 4, 5)\n",
        "\n",
        "  Unpack the following tuple into five variables and display the value of each variable.\n",
        "\n",
        "  --------------------------------\n",
        "\n",
        "  **Expected output:**\n",
        "\n",
        "  print(a) # should print 1\n",
        "\n",
        "  print(b) # should print 2\n",
        "\n",
        "  print(c) # should print 3\n",
        "\n",
        "  print(d) # should print 4\n",
        "\n",
        "  print(d) # should print 5"
      ],
      "metadata": {
        "id": "WumP_Ic4-22c"
      }
    },
    {
      "cell_type": "code",
      "source": [
        "# Put your answer here\n",
        "\n",
        "mytuple = (1, 2, 3, 4, 5)\n",
        "a, b, c, d, e = mytuple\n",
        "print(a)\n",
        "print(b)\n",
        "print(c)\n",
        "print(d)\n",
        "print(e)"
      ],
      "metadata": {
        "id": "aTUeI4uw_X9H",
        "outputId": "4fdc9ab8-53ca-4c69-b191-b635b6d32b0d",
        "colab": {
          "base_uri": "https://localhost:8080/"
        }
      },
      "execution_count": null,
      "outputs": [
        {
          "output_type": "stream",
          "name": "stdout",
          "text": [
            "1\n",
            "2\n",
            "3\n",
            "4\n",
            "5\n"
          ]
        }
      ]
    },
    {
      "cell_type": "markdown",
      "source": [
        "3. Given this tuple\n",
        "\n",
        "  mytuple = (1, 2, 3, 4, 5, 6, 7, 8, 9, 10)\n",
        "\n",
        "  Use range indexing/slicing to create a new tuple that will only contain the numbers 6 to 10\n",
        "\n",
        "  --------------------------------\n",
        "\n",
        "  **Expected output:**\n",
        "\n",
        "  print(newtuple)\n",
        "\n",
        "  (6, 7, 8, 9, 10)"
      ],
      "metadata": {
        "id": "yXX3t_Xt_mQu"
      }
    },
    {
      "cell_type": "code",
      "source": [
        "# Put your answer here\n",
        "mytuple = (1, 2, 3, 4, 5, 6, 7, 8, 9, 10)\n",
        "mytuple[5:]"
      ],
      "metadata": {
        "id": "_o6TDiOZ_mkB",
        "outputId": "c9730426-c57f-4c01-d139-77c601fe9c48",
        "colab": {
          "base_uri": "https://localhost:8080/"
        }
      },
      "execution_count": null,
      "outputs": [
        {
          "output_type": "execute_result",
          "data": {
            "text/plain": [
              "(6, 7, 8, 9, 10)"
            ]
          },
          "metadata": {},
          "execution_count": 15
        }
      ]
    },
    {
      "cell_type": "markdown",
      "source": [
        "4. Given this tuple\n",
        "\n",
        "  mytuple = (\"NU\", \"NU\", 55, \"i love data science!\", False, \"NU\", 23)\n",
        "\n",
        "  Count the number of occurrences of the word \"NU\"\n",
        "\n",
        "  --------------------------------\n",
        "\n",
        "  **Expected output:**\n",
        "\n",
        "  3"
      ],
      "metadata": {
        "id": "D-VxNmfJAgi2"
      }
    },
    {
      "cell_type": "code",
      "source": [
        "# Put your answer here\n",
        "mytuple = (\"NU\", \"NU\", 55, \"i love data science!\", False, \"NU\", 23)\n",
        "count = 0\n",
        "for elem in mytuple:\n",
        "  if elem == \"NU\": count += 1\n",
        "print(count)"
      ],
      "metadata": {
        "id": "7z66oeBSAg2d",
        "outputId": "9e5d45ac-5337-480e-81d5-85c97709c838",
        "colab": {
          "base_uri": "https://localhost:8080/"
        }
      },
      "execution_count": null,
      "outputs": [
        {
          "output_type": "stream",
          "name": "stdout",
          "text": [
            "3\n"
          ]
        }
      ]
    },
    {
      "cell_type": "markdown",
      "source": [
        "5. Given this tuple of tuples\n",
        "\n",
        "  mytuple = (('A', 2),('B', 1),('C', 4), ('D', 3))\n",
        "\n",
        "  Sort mytuple by the second item of each inner tuple\n",
        "\n",
        "  --------------------------------\n",
        "\n",
        "  **Expected output:**\n",
        "\n",
        " (('B', 1),('A', 2),('D', 3), ('C', 4))\n",
        "\n"
      ],
      "metadata": {
        "id": "X59cGUyuA6no"
      }
    },
    {
      "cell_type": "code",
      "source": [
        "mytuple = (('A', 2),('B', 1),('C', 4), ('D', 3))\n",
        "len(mytuple)"
      ],
      "metadata": {
        "id": "FQTIaOf0njbO",
        "outputId": "9e49ebe5-4280-4faf-f690-50e5df9030b9",
        "colab": {
          "base_uri": "https://localhost:8080/"
        }
      },
      "execution_count": null,
      "outputs": [
        {
          "output_type": "execute_result",
          "data": {
            "text/plain": [
              "4"
            ]
          },
          "metadata": {},
          "execution_count": 17
        }
      ]
    },
    {
      "cell_type": "code",
      "source": [
        "# Put your answer here\n",
        "mytuple = (('A', 2),('B', 1),('C', 4), ('D', 3))\n",
        "sorted(mytuple, key=lambda elem: elem[1])"
      ],
      "metadata": {
        "id": "QdLPtKRhA67A",
        "outputId": "80f18651-a635-4d6a-b718-9f5ea75d68d2",
        "colab": {
          "base_uri": "https://localhost:8080/"
        }
      },
      "execution_count": null,
      "outputs": [
        {
          "output_type": "execute_result",
          "data": {
            "text/plain": [
              "[('B', 1), ('A', 2), ('D', 3), ('C', 4)]"
            ]
          },
          "metadata": {},
          "execution_count": 20
        }
      ]
    },
    {
      "cell_type": "markdown",
      "source": [
        "# Set"
      ],
      "metadata": {
        "id": "xlFYHSIYCTT3"
      }
    },
    {
      "cell_type": "markdown",
      "source": [
        "1. Given this set and list\n",
        "\n",
        "  myset = {\"A\", \"B\", \"C\"}\n",
        "\n",
        "  mylist = [\"D\", \"E\", \"F\"]\n",
        "\n",
        "  Insert all items in the list into the set\n",
        "\n",
        "  --------------------------------\n",
        "\n",
        "  **Expected output:**\n",
        "\n",
        "  {\"A\", \"B\", \"C\", \"D\", \"E\" , \"F\"}\n",
        "\n",
        "  Note: The order does not matter"
      ],
      "metadata": {
        "id": "31-KYrN_CXF-"
      }
    },
    {
      "cell_type": "code",
      "source": [
        "# Put your answer here\n",
        "myset = {\"A\", \"B\", \"C\"}\n",
        "mylist = [\"D\", \"E\", \"F\"]\n",
        "\n",
        "for elem in mylist:\n",
        "  myset.add(elem)\n",
        "\n",
        "myset\n"
      ],
      "metadata": {
        "id": "LebVfecMCVrm",
        "outputId": "2a830c5e-5b92-4177-f780-ae6c70e94a99",
        "colab": {
          "base_uri": "https://localhost:8080/"
        }
      },
      "execution_count": 2,
      "outputs": [
        {
          "output_type": "execute_result",
          "data": {
            "text/plain": [
              "{'A', 'B', 'C', 'D', 'E', 'F'}"
            ]
          },
          "metadata": {},
          "execution_count": 2
        }
      ]
    },
    {
      "cell_type": "markdown",
      "source": [
        "2. Use a function to create a new set that will only contain unique items from both sets.\n",
        "\n",
        "  set1 = {\"A\", \"B\", \"C\"}\n",
        "\n",
        "  set2 = {\"C\", \"B\", \"D\"}\n",
        "\n",
        "  --------------------------------\n",
        "\n",
        "  **Expected output:**\n",
        "\n",
        "  {\"A\", \"B\", \"C\", \"D\"}\n",
        "\n",
        "  Note: The order does not matter"
      ],
      "metadata": {
        "id": "mC-vQoLXDCEk"
      }
    },
    {
      "cell_type": "code",
      "source": [
        "# Put your answer here\n",
        "\n",
        "# preparation\n",
        "set1 = {\"A\", \"B\", \"C\"}\n",
        "set2 = {\"C\", \"B\", \"D\"}\n",
        "answer = set()\n",
        "\n",
        "# for loop\n",
        "# for elem1, elem2 in zip(set1, set2):\n",
        "#   answer.add(elem1)\n",
        "#   answer.add(elem2)\n",
        "\n",
        "# set method (union)\n",
        "answer = set1.union(set2)\n",
        "\n",
        "# show result\n",
        "answer"
      ],
      "metadata": {
        "id": "nxMD_diQDCSJ",
        "outputId": "1ddb9855-156a-4541-bbd9-c4f6f1c16fc1",
        "colab": {
          "base_uri": "https://localhost:8080/"
        }
      },
      "execution_count": 6,
      "outputs": [
        {
          "output_type": "execute_result",
          "data": {
            "text/plain": [
              "{'A', 'B', 'C', 'D'}"
            ]
          },
          "metadata": {},
          "execution_count": 6
        }
      ]
    },
    {
      "cell_type": "markdown",
      "source": [
        "3. Given two sets, use a function to update **set1** with items that only appears in **set1** but not in **set2**.\n",
        "\n",
        "  set1 = {1, 2, 3, 4, 5}\n",
        "\n",
        "  set2 = {2, 3, 4}\n",
        "\n",
        "  --------------------------------\n",
        "\n",
        "  **Expected output:**\n",
        "\n",
        "  {1, 5}\n",
        "\n",
        "  Note: The order does not matter"
      ],
      "metadata": {
        "id": "vo1unYAjD7PC"
      }
    },
    {
      "cell_type": "code",
      "source": [
        "# Put your answer here\n",
        "set1 = {1, 2, 3, 4, 5}\n",
        "set2 = {2, 3, 4}\n",
        "\n",
        "# set methods (difference)\n",
        "set1.difference(set2)\n"
      ],
      "metadata": {
        "id": "V5JILO_oD7io",
        "outputId": "1b65209b-050b-415d-95fc-33a9b14d3e0f",
        "colab": {
          "base_uri": "https://localhost:8080/"
        }
      },
      "execution_count": 7,
      "outputs": [
        {
          "output_type": "execute_result",
          "data": {
            "text/plain": [
              "{1, 5}"
            ]
          },
          "metadata": {},
          "execution_count": 7
        }
      ]
    },
    {
      "cell_type": "markdown",
      "source": [
        "4. Given the two sets\n",
        "\n",
        "  set1 = {1, 2, 3, 4, 5}\n",
        "\n",
        "  set2 = {6 ,7, 8, 2, 5}\n",
        "\n",
        "  Use a function to create a new set that will only contain common items from set1 and set2\n",
        "\n",
        "  --------------------------------\n",
        "\n",
        "  **Expected output:**\n",
        "\n",
        "  {2, 5}\n",
        "\n",
        "  Note: The order does not matter\n",
        "\n",
        "\n"
      ],
      "metadata": {
        "id": "UD24DfUYEyqK"
      }
    },
    {
      "cell_type": "code",
      "source": [
        "# Put your answer here\n",
        "set1 = {1, 2, 3, 4, 5}\n",
        "set2 = {6 ,7, 8, 2, 5}\n",
        "\n",
        "# set methods (intersection)\n",
        "set1.intersection(set2)"
      ],
      "metadata": {
        "id": "jZXbbssNFAdT",
        "outputId": "84a5107b-cb5b-4bf1-d157-684bf5f53de4",
        "colab": {
          "base_uri": "https://localhost:8080/"
        }
      },
      "execution_count": 8,
      "outputs": [
        {
          "output_type": "execute_result",
          "data": {
            "text/plain": [
              "{2, 5}"
            ]
          },
          "metadata": {},
          "execution_count": 8
        }
      ]
    },
    {
      "cell_type": "markdown",
      "source": [
        "5. Given the two sets\n",
        "\n",
        "  set1 = {\"APPLE\", \"BANANA\" , \"MANGO\", \"DRAGONFRUIT\"}\n",
        "\n",
        "  set2 = {\"APPLE\", \"GUAVA\", \"CORN\", \"DRAGONFRUIT\"}\n",
        "\n",
        "  Remove items from set1 that are not common to both set1 and set2\n",
        "\n",
        "  --------------------------------\n",
        "\n",
        "  **Expected output:**\n",
        "\n",
        "  {\"APPLE\", \"DRAGONFRUIT\"}\n",
        "\n",
        "  Note: The order does not matter\n",
        "\n"
      ],
      "metadata": {
        "id": "J4rt3u9yGQk6"
      }
    },
    {
      "cell_type": "code",
      "source": [
        "# Put your answer here\n",
        "set1 = {\"APPLE\", \"BANANA\" , \"MANGO\", \"DRAGONFRUIT\"}\n",
        "set2 = {\"APPLE\", \"GUAVA\", \"CORN\", \"DRAGONFRUIT\"}\n",
        "\n",
        "set1.intersection_update(set2)\n",
        "\n",
        "set1"
      ],
      "metadata": {
        "id": "jS1ptbx3GQ4o",
        "outputId": "1419018b-a557-4cc5-e6c1-028464c3e5a1",
        "colab": {
          "base_uri": "https://localhost:8080/"
        }
      },
      "execution_count": 16,
      "outputs": [
        {
          "output_type": "execute_result",
          "data": {
            "text/plain": [
              "{'APPLE', 'DRAGONFRUIT'}"
            ]
          },
          "metadata": {},
          "execution_count": 16
        }
      ]
    },
    {
      "cell_type": "markdown",
      "source": [
        "# Dictionary"
      ],
      "metadata": {
        "id": "S5qYFrqhJYh_"
      }
    },
    {
      "cell_type": "markdown",
      "source": [
        "1. Given the two lists below\n",
        "\n",
        "  keyslist = ['001', '002', '003']\n",
        "\n",
        "  valueslist = ['RED', 'BLUE', 'GREEN']\n",
        "\n",
        "  Use the **zip()** function to convert them into a dictionary where all items in the keyslist will be the key and the items in the valueslist will be the value\n",
        "\n",
        "  --------------------------------\n",
        "\n",
        "  **Expected output:**\n",
        "\n",
        "  {'001': 'RED', '002': 'BLUE', '003': 'GREEN'}\n",
        "\n",
        "  Note: The order does not matter"
      ],
      "metadata": {
        "id": "Vz-lu0jbIVfi"
      }
    },
    {
      "cell_type": "code",
      "source": [
        "# put your answer here\n",
        "keyslist = ['001', '002', '003']\n",
        "valueslist = ['RED', 'BLUE', 'GREEN']\n",
        "mydict = dict()\n",
        "\n",
        "for key, value in zip(keyslist, valueslist):\n",
        "  mydict[key] = value\n",
        "\n",
        "mydict"
      ],
      "metadata": {
        "id": "mqxbbzNfIUJ6",
        "outputId": "ff3a045a-bc0a-45e9-b533-5b3334ca889e",
        "colab": {
          "base_uri": "https://localhost:8080/"
        }
      },
      "execution_count": 18,
      "outputs": [
        {
          "output_type": "execute_result",
          "data": {
            "text/plain": [
              "{'001': 'RED', '002': 'BLUE', '003': 'GREEN'}"
            ]
          },
          "metadata": {},
          "execution_count": 18
        }
      ]
    },
    {
      "cell_type": "markdown",
      "source": [
        "2. Merge the two dictionaries below into a single dictionary\n",
        "\n",
        "  dict1 = {'001': 'A', '002': 'B', '003': 'C'}\n",
        "\n",
        "  dict2 = {'004': 'D', '005': 'E', '006': 'F'}\n",
        "\n",
        "  --------------------------------\n",
        "\n",
        "  **Expected output:**\n",
        "\n",
        "  {'001': 'A', '002': 'B', '003': 'C', '004': 'D', '005': 'E', '006': 'F'}\n",
        "\n",
        "  Note: The order does not matter\n",
        "\n"
      ],
      "metadata": {
        "id": "syCyjMMQJtYt"
      }
    },
    {
      "cell_type": "code",
      "source": [
        "# put your answer here\n",
        "\n",
        "dict1 = {'001': 'A', '002': 'B', '003': 'C'}\n",
        "dict2 = {'004': 'D', '005': 'E', '006': 'F'}\n",
        "\n",
        "for key, value in dict2.items():\n",
        "  dict1[key] = value\n",
        "\n",
        "dict1"
      ],
      "metadata": {
        "id": "1cm1ta7pKTTL",
        "outputId": "8878f695-7b0e-40b9-8fa4-405b586ccb97",
        "colab": {
          "base_uri": "https://localhost:8080/"
        }
      },
      "execution_count": 22,
      "outputs": [
        {
          "output_type": "execute_result",
          "data": {
            "text/plain": [
              "{'001': 'A', '002': 'B', '003': 'C', '004': 'D', '005': 'E', '006': 'F'}"
            ]
          },
          "metadata": {},
          "execution_count": 22
        }
      ]
    },
    {
      "cell_type": "markdown",
      "source": [
        "3. Given this dictionary\n",
        "\n",
        "    dict1 = {\n",
        "    \"name\": \"elizer\",\n",
        "    \"age\": 25,\n",
        "    \"surname\": \"ponio\",\n",
        "    \"city\": \"manila\"}\n",
        "\n",
        "  Create a new dictionary that will only contain elements extracted using the name and surname keys.\n",
        "\n",
        "  --------------------------------\n",
        "\n",
        "  **Expected output:**\n",
        "\n",
        "  {'name': 'elizer', 'surname': ponio}\n",
        "\n",
        "  Note: The order does not matter"
      ],
      "metadata": {
        "id": "zgtELDVGKPs6"
      }
    },
    {
      "cell_type": "code",
      "source": [
        "# put your answer here\n",
        "dict1 = { \"name\": \"elizer\", \"age\": 25, \"surname\": \"ponio\", \"city\": \"manila\"}\n",
        "mydict = dict()\n",
        "\n",
        "for key, value in dict1.items():\n",
        "  if key == \"name\" or key == \"surname\":\n",
        "    mydict[key] = value\n",
        "\n",
        "mydict"
      ],
      "metadata": {
        "id": "CCFaPPdfKOhJ",
        "outputId": "8f4843b4-a84d-4d34-9806-0b0dc45b0891",
        "colab": {
          "base_uri": "https://localhost:8080/"
        }
      },
      "execution_count": 23,
      "outputs": [
        {
          "output_type": "execute_result",
          "data": {
            "text/plain": [
              "{'name': 'elizer', 'surname': 'ponio'}"
            ]
          },
          "metadata": {},
          "execution_count": 23
        }
      ]
    },
    {
      "cell_type": "markdown",
      "source": [
        "4. Given this dictionary\n",
        "\n",
        "    dict1 = {\n",
        "    \"name\": \"elizer\",\n",
        "    \"age\": 25,\n",
        "    \"surname\": \"ponio\",\n",
        "    \"city\": \"New york\"}\n",
        "\n",
        "  Check if the value \"ponio\" is present in the dictionary\n",
        "\n",
        "  --------------------------------\n",
        "\n",
        "  **Expected output:**\n",
        "\n",
        "  \"ponio\" exists in the dictionary\n",
        "\n",
        "  Note: The order does not matter"
      ],
      "metadata": {
        "id": "4dAHmssXKOyX"
      }
    },
    {
      "cell_type": "code",
      "source": [
        "# put your answer here\n",
        "dict1 = { \"name\": \"elizer\", \"age\": 25, \"surname\": \"ponio\", \"city\": \"New york\"}\n",
        "\n",
        "is_ponio_exist = False\n",
        "for key, value in dict1.items():\n",
        "  if value == \"ponio\":\n",
        "    is_ponio_exist = True\n",
        "    break\n",
        "\n",
        "if is_ponio_exist: print(\"\\\"ponio\\\" exists in the dictionary\")\n",
        ""
      ],
      "metadata": {
        "id": "vE5z05MILtDX",
        "outputId": "b826b5e0-8a8b-4e62-c19d-23b28c3ce834",
        "colab": {
          "base_uri": "https://localhost:8080/"
        }
      },
      "execution_count": 26,
      "outputs": [
        {
          "output_type": "stream",
          "name": "stdout",
          "text": [
            "\"ponio\" exists in the dictionary\n"
          ]
        }
      ]
    },
    {
      "cell_type": "markdown",
      "source": [
        "5. Given this dictionary\n",
        "\n",
        "    dict1 = {\n",
        "    \"name\": \"elizer\",\n",
        "    \"age\": 25,\n",
        "    \"surname\": \"ponio\",\n",
        "    \"city\": \"manila\"}\n",
        "\n",
        "  Rename the key \"name\" to \"firstname\"\n",
        "\n",
        "  --------------------------------\n",
        "\n",
        "  **Expected output:**\n",
        "\n",
        "    {\n",
        "    \"firstname\": \"elizer\",\n",
        "    \"age\": 25,\n",
        "    \"surname\": \"ponio\",\n",
        "    \"city\": \"manila\"}\n",
        "\n",
        "  Note: The order does not matter"
      ],
      "metadata": {
        "id": "Diz40L2uLq9c"
      }
    },
    {
      "cell_type": "code",
      "source": [
        "# put your answer here\n",
        "dict1 = { \"name\": \"elizer\", \"age\": 25, \"surname\": \"ponio\", \"city\": \"manila\"}\n",
        "\n",
        "# 1st step - creating a new one\n",
        "# last step - deleting the old one\n",
        "\n",
        "dict1[\"firstname\"] = dict1[\"name\"]\n",
        "del dict1[\"name\"]\n",
        "\n",
        "dict1"
      ],
      "metadata": {
        "id": "6V5oEAGGLQrO",
        "outputId": "87474f2c-4bfe-4c3a-e957-4b8ff9ce4e8b",
        "colab": {
          "base_uri": "https://localhost:8080/"
        }
      },
      "execution_count": 31,
      "outputs": [
        {
          "output_type": "execute_result",
          "data": {
            "text/plain": [
              "{'age': 25, 'surname': 'ponio', 'city': 'manila', 'firstname': 'elizer'}"
            ]
          },
          "metadata": {},
          "execution_count": 31
        }
      ]
    }
  ]
}